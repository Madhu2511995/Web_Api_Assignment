{
 "cells": [
  {
   "cell_type": "markdown",
   "id": "ff71b05e-4d4d-4465-8c0b-55915d4b2325",
   "metadata": {},
   "source": [
    "#### Q1. What is an API? Give an example, where an API is used in real life.\n",
    "#### Q2. Give advantages and disadvantages of using API.\n",
    "#### Q3. What is a Web API? Differentiate between API and Web API.\n",
    "#### Q4. Explain REST and SOAP Architecture. Mention shortcomings of SOAP.\n",
    "#### Q5. Differentiate between REST and SOAP."
   ]
  },
  {
   "cell_type": "markdown",
   "id": "3cd811b9-65a4-4e95-b095-2ee8133e084f",
   "metadata": {},
   "source": [
    "## Answers"
   ]
  },
  {
   "cell_type": "markdown",
   "id": "43051898-5f14-4a08-8f78-9ff4617cbc96",
   "metadata": {},
   "source": [
    "### Q1. What is an API? Give an example, where an API is used in real life."
   ]
  },
  {
   "cell_type": "markdown",
   "id": "95923106-57ad-46df-b543-dfa9830e73bb",
   "metadata": {},
   "source": [
    "API : ===> An API (Application Programming Interface) is a set of rules and protocols that allows different software applications to communicate and interact with each other. It defines the methods and data formats that applications can use to request services from each other and how they can exchange information.\n",
    "\n",
    "Example--\n",
    "if you search anything on google the api is use to find the result from backend."
   ]
  },
  {
   "cell_type": "markdown",
   "id": "530b5a99-ad51-4c71-a713-154c60f0f38c",
   "metadata": {},
   "source": [
    "### Q2. Give advantages and disadvantages of using API.¶"
   ]
  },
  {
   "cell_type": "markdown",
   "id": "00632b2b-5fe9-4e6e-80d2-83da61b454e4",
   "metadata": {},
   "source": [
    "### 1. Advantages\n",
    "\n"
   ]
  },
  {
   "cell_type": "markdown",
   "id": "dd992b58-476a-45bb-a4a1-b8f2c797083e",
   "metadata": {},
   "source": [
    "1. Code Reusability :\n",
    "-----------------------------------\n",
    "APIs allow developers to resuse the code and functionality, saving time and effort. \n",
    "\n",
    "2. Modularity and Scalability :\n",
    "------------------------------------\n",
    "API allow to modular developement by breaking down complex system into smaller and manageable components. This modularity allows developers to scale their applications more easily by adding or updating specific API components without affecting the entire system.\n",
    "\n",
    "3. Better User Experience :\n",
    "----------------------------------\n",
    "APIs can enable third-party developers to create applications that integrate with existing software systems, providing a better user experience and increased functionality.\n",
    "\n",
    "4. Faster Development :\n",
    "----------------------------------\n",
    "APIs provide pre-defined methods, data structures, and protocols, reducing the complexity of development.\n",
    "\n"
   ]
  },
  {
   "cell_type": "markdown",
   "id": "e20e60b1-0e7e-416c-9215-311ec81b1c2e",
   "metadata": {},
   "source": [
    "### Disadvantages"
   ]
  },
  {
   "cell_type": "markdown",
   "id": "43bbe3b7-f2dc-4797-aa94-ea8038f1ef48",
   "metadata": {},
   "source": [
    "1. Dependency on External Services :\n",
    "---------------------------------------\n",
    "When applications rely on external APIs, they become dependent on the availability and stability of those APIs. \n",
    "\n",
    "2. Security Risks :\n",
    "--------------------------------\n",
    "Exposing certain functionalities or data through APIs can be a potential entry point for attackers if adequate security measures are not in place.\n",
    "\n",
    "3. Lack of Control :\n",
    "-----------------------------------------\n",
    "When relying on third-party APIs, developers have limited control over the performance, availability, and changes made to the API.\n",
    "\n",
    "4. Compatibility Issues : \n",
    "---------------------------------------------\n",
    "APIs can have compatibility issues between different versions of the same software system or between different systems, which can lead to errors and system failures."
   ]
  },
  {
   "cell_type": "markdown",
   "id": "43ae6560-a151-4762-937e-eae48c15c4e9",
   "metadata": {},
   "source": [
    "### Q4. Explain REST and SOAP Architecture. Mention shortcomings of SOAP.\n"
   ]
  },
  {
   "cell_type": "markdown",
   "id": "9ca008f5-1e9c-4654-a64e-9e9e76f7d073",
   "metadata": {},
   "source": [
    "REST (Representational State Transfer) and SOAP (Simple Object Access Protocol) are two architectural styles commonly used for designing web services."
   ]
  },
  {
   "cell_type": "markdown",
   "id": "ca2e1af7-60c5-4b6c-b5de-0f493c171922",
   "metadata": {},
   "source": [
    "REST Architecture (Representational State Transfer):\n",
    "-----------------------\n",
    "REST is an architectural style that emphasizes a stateless, client-server communication model. It is based on a set of principles and constraints that promote scalability, simplicity, and ease of use.\n",
    "\n",
    "1. Stateless Communication\n",
    "2. Resource-Oriented\n",
    "3. Uniform Interface\n",
    "\n",
    "SOAP Architecture (Simple Object Access Protocol):\n",
    "--------------------------\n",
    "SOAP is a protocol that defines a set of rules for structuring messages and performing communication between networked devices. SOAP operates over various protocols like HTTP, SMTP, and more. It is more heavyweight compared to REST and follows a more complex structure.\n",
    "\n",
    "1. XML-Based Messaging\n",
    "2. Web Services Description Language (WSDL)\n",
    "3. Extensibility and Standards Support\n",
    "\n",
    "Shortcomings of SOAP :\n",
    "--------------------------\n",
    "1. Complexity : \n",
    "----------------------\n",
    "SOAP can be more complex to implement and understand compared to REST.\n",
    "2. Performance Overhead : \n",
    "-------------------------------\n",
    "SOAP messages tend to be larger due to the XML format, resulting in increased bandwidth usage. This can lead to slower network performance, especially in low-bandwidth or high-latency environments.\n",
    "3. Limited Compatibility :\n",
    "----------------------------\n",
    "SOAP has limited compatibility with web standards and can be challenging to integrate with existing web infrastructure. Its support for various protocols and extensions may vary across different platforms"
   ]
  },
  {
   "cell_type": "markdown",
   "id": "f9913872-d780-47fc-9b0a-9ce43fd85beb",
   "metadata": {},
   "source": [
    "### Q5. Differentiate between REST and SOAP."
   ]
  },
  {
   "cell_type": "markdown",
   "id": "606a5627-b902-4ded-b7fd-7a1152c8e3a6",
   "metadata": {},
   "source": [
    "SOAP API\n",
    "---------------\n",
    "1. Relies on SOAP (Simple Object Access Protocol)\n",
    "2. Transports data in standard XML format.\n",
    "3. Because it is XML based and relies on SOAP, it works with WSDL\n",
    "4. Works over HTTP, HTTPS, SMTP, XMPP\n",
    "5. Highly structured/typed "
   ]
  },
  {
   "cell_type": "markdown",
   "id": "322fa8fb-05b2-49fe-a778-38f53168d9cd",
   "metadata": {},
   "source": [
    "REST API\n",
    "---------------\n",
    "1. Relies on REST (Representational State Transfer) architecture using HTTP.\n",
    "2. Generally transports data in JSON. It is based on URI. Because REST follows stateless model, REST does not enforces message format as XML or JSON etc.\n",
    "3. It works with GET, POST, PUT, DELETE\n",
    "4. Works over HTTP and HTTPS\n",
    "5. Less structured -> less bulky data"
   ]
  },
  {
   "cell_type": "code",
   "execution_count": null,
   "id": "d5bd9051-6ca7-4ffb-a62f-81f63ba2f746",
   "metadata": {},
   "outputs": [],
   "source": []
  },
  {
   "cell_type": "code",
   "execution_count": null,
   "id": "1679eda3-3d5c-482a-975f-90a32fce292d",
   "metadata": {},
   "outputs": [],
   "source": []
  },
  {
   "cell_type": "code",
   "execution_count": null,
   "id": "c2110ccc-edf4-4e18-9630-d2991efac6fa",
   "metadata": {},
   "outputs": [],
   "source": []
  }
 ],
 "metadata": {
  "kernelspec": {
   "display_name": "Python 3 (ipykernel)",
   "language": "python",
   "name": "python3"
  },
  "language_info": {
   "codemirror_mode": {
    "name": "ipython",
    "version": 3
   },
   "file_extension": ".py",
   "mimetype": "text/x-python",
   "name": "python",
   "nbconvert_exporter": "python",
   "pygments_lexer": "ipython3",
   "version": "3.10.8"
  }
 },
 "nbformat": 4,
 "nbformat_minor": 5
}
